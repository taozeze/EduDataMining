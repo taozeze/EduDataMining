{
 "cells": [
  {
   "cell_type": "markdown",
   "metadata": {},
   "source": [
    "# Evaluate hint effects on final scores"
   ]
  },
  {
   "cell_type": "code",
   "execution_count": 1,
   "metadata": {
    "collapsed": false
   },
   "outputs": [],
   "source": [
    "%matplotlib inline \n",
    "import matplotlib.pyplot as plt\n",
    "import warnings\n",
    "warnings.filterwarnings('ignore')\n",
    "\n",
    "import pickle as pkl\n",
    "import pandas as pd\n",
    "from pandas import DataFrame as df\n",
    "from collections import defaultdict\n",
    "import scipy.stats as stats\n",
    "import numpy as np"
   ]
  },
  {
   "cell_type": "markdown",
   "metadata": {},
   "source": [
    "## Load Data"
   ]
  },
  {
   "cell_type": "code",
   "execution_count": 2,
   "metadata": {
    "collapsed": false
   },
   "outputs": [],
   "source": [
    "hw_df = pd.read_pickle('../data/pkl_data/hw_data.pkl')\n",
    "hints_df = pd.read_pickle('../data/pkl_data/hint_feature_df.pkl')"
   ]
  },
  {
   "cell_type": "code",
   "execution_count": 3,
   "metadata": {
    "collapsed": false
   },
   "outputs": [],
   "source": [
    "### Add hint count for each assignment\n",
    "hint_count_ids = [c for c in hints_df.columns if len(c) == 3 and c[2] == 'hint_count']\n",
    "for h in hint_count_ids:\n",
    "    if (h[0], 'hint_count') not in hints_df.columns:\n",
    "        hints_df[(h[0], 'hint_count')] = hints_df[h]\n",
    "    else:\n",
    "        hints_df[(h[0], 'hint_count')] += hints_df[h]"
   ]
  },
  {
   "cell_type": "code",
   "execution_count": 4,
   "metadata": {
    "collapsed": false
   },
   "outputs": [],
   "source": [
    "cols = hw_df.columns"
   ]
  },
  {
   "cell_type": "code",
   "execution_count": 5,
   "metadata": {
    "collapsed": false
   },
   "outputs": [],
   "source": [
    "prob_list = list(set([(c[0],c[1]) for c in cols if len(c)==3]))"
   ]
  },
  {
   "cell_type": "code",
   "execution_count": 7,
   "metadata": {
    "collapsed": false
   },
   "outputs": [],
   "source": [
    "final_df = pd.read_pickle('../data/pkl_data/final_data.pkl')\n",
    "weak_final_df = final_df[final_df['Total Score'] <= final_df['Total Score'].mean()]\n",
    "strong_final_df = final_df[final_df['Total Score'] > final_df['Total Score'].mean()]\n",
    "hints_df['Total Score'] = final_df['Total Score']\n",
    "weak_hint_df = hints_df[hints_df['Total Score']  <= final_df['Total Score'].mean()]\n",
    "strong_hint_df = hints_df[hints_df['Total Score']  > final_df['Total Score'].mean()]"
   ]
  },
  {
   "cell_type": "code",
   "execution_count": 8,
   "metadata": {
    "collapsed": false
   },
   "outputs": [
    {
     "data": {
      "text/plain": [
       "Index([u'Total Score', u'Submission Time', u'1: Combinatorics',\n",
       "       u'2: Two Pairs', u'3.1: Part 1-3', u'3.2: Part 4-6',\n",
       "       u'4: Color-blindness', u'5: CDF', u'6.1: Markov', u'6.2: Chebyshev',\n",
       "       u'7: True/False', u'8.1: Distribution of X', u'8.2: Distribution of Y',\n",
       "       u'8.3: Relationship between X and Y', u'9.1: alpha = 2',\n",
       "       u'9.2: alpha = 3', u'9.3: alpha = 4', u'11: Hypothesis Testing',\n",
       "       u'strong', u'weak', u'mid', u'group', u'10: Poisson', u'ID'],\n",
       "      dtype='object')"
      ]
     },
     "execution_count": 8,
     "metadata": {},
     "output_type": "execute_result"
    }
   ],
   "source": [
    "final_df.columns"
   ]
  },
  {
   "cell_type": "markdown",
   "metadata": {},
   "source": [
    "## Create final problem to homework problems mapping"
   ]
  },
  {
   "cell_type": "code",
   "execution_count": 9,
   "metadata": {
    "collapsed": false
   },
   "outputs": [],
   "source": [
    "def pro_score_mapping(fi_df, hi_df):\n",
    "    hi_df['1:Comb'] = fi_df['1: Combinatorics']/9.\n",
    "    hi_df['2:Poker'] = fi_df['2: Two Pairs']/10.\n",
    "    hi_df['3:StarBars'] = (fi_df['3.1: Part 1-3']+final_df['3.2: Part 4-6'])/6.\n",
    "    hi_df['4:CondProb'] = fi_df['4: Color-blindness']/5.\n",
    "    hi_df['5:CDF'] = fi_df['5: CDF']/15.\n",
    "    hi_df['6:Markov'] = fi_df['6.1: Markov']/5.\n",
    "    hi_df['6:Chebyshev'] = fi_df['6.2: Chebyshev']/5.\n",
    "    hi_df['8:ContiTable'] = (fi_df['8.1: Distribution of X']+final_df['8.2: Distribution of Y']+final_df['8.3: Relationship between X and Y'])/10.\n",
    "    hi_df['9:HeavyLightTail'] = (fi_df['9.1: alpha = 2'] + final_df['9.2: alpha = 3'] + final_df['9.3: alpha = 4'])/10.\n",
    "    hi_df['10:Poisson'] = fi_df['10: Poisson'] / 10.\n",
    "    hi_df['11:Hypothesis'] = fi_df['11: Hypothesis Testing']/5."
   ]
  },
  {
   "cell_type": "code",
   "execution_count": 14,
   "metadata": {
    "collapsed": true
   },
   "outputs": [],
   "source": [
    "pro_map = {}\n",
    "#pro_map['1:Comb'] = [('2','12'), ('3','1'), ('3','2'), ('3','3'), ('3','5'), ('3','6'), ('3','7')]\n",
    "#pro_map['3:StarBars'] = [('3','8'), ('3','9')]\n",
    "pro_map['4:CondProb'] = [('4','1'), ('4','2')]\n",
    "pro_map['5:CDF'] =  [('5','1'), ('5','2'), ('5','3'), ('5','4')]\n",
    "pro_map['6:Markov'] = [('6','4')]\n",
    "pro_map['6:Chebyshev'] = [('6','6')]\n",
    "pro_map['8:ContiTable'] = [('6','2'), ('6','3')]\n",
    "pro_map['10:Poisson'] = [('8','3'), ('8','4'), ('8','5'), ('8','6')]"
   ]
  },
  {
   "cell_type": "markdown",
   "metadata": {},
   "source": [
    "## Get final score statistics"
   ]
  },
  {
   "cell_type": "code",
   "execution_count": 58,
   "metadata": {
    "collapsed": false
   },
   "outputs": [],
   "source": [
    "### Look at each final problem\n",
    "def stats_between_dfs(case_df, control_df, pro_name):\n",
    "    ca = len(case_df)\n",
    "    co = len(control_df)\n",
    "    if ca == 0 or co == 0:\n",
    "        print \"ERROR: Empty dataframe passed in...\"\n",
    "        return\n",
    "    \n",
    "    case_mean = case_df[pro_name].mean()\n",
    "    control_mean = control_df[pro_name].mean()\n",
    "    case_std = case_df[pro_name].std()\n",
    "    control_std = control_df[pro_name].std()\n",
    "    \n",
    "    t,p = stats.ttest_ind(case_df[pro_name], control_df[pro_name])\n",
    "    return p, case_df[pro_name], control_df[pro_name]\n",
    "\n",
    "def final_p(mapping, pro_name, hi_df):\n",
    "    p = [(t[0], t[1], 'hint_count') for t in mapping[pro_name]]\n",
    "    assi = list(set([(t[0], 'assign') for t in mapping[pro_name]]))\n",
    "\n",
    "    hi_df[pro_name+'_hint_count'] = hi_df[p].sum(axis=1)\n",
    "    hi_df[pro_name+'_assign'] = hi_df[assi].sum(axis=1)\n",
    "\n",
    "    case_df = hi_df[hi_df[pro_name+'_hint_count'] > 0 & (hi_df[pro_name+'_assign'] != 0)]\n",
    "    control_df = hi_df[(hi_df[pro_name+'_hint_count'] > 0) & (hi_df[pro_name+'_assign'] == 0)]\n",
    "    \n",
    "    #print \"{0} students with hints\".format(len(Comb_h_df))\n",
    "    #print \"{0} students with no hint assigned\".format(len(Comb_nh_df))\n",
    "    #print \"{0} students ignore hints\".format(len(Comb_ns_df))\n",
    "    return stats_between_dfs(case_df, control_df, pro_name)\n",
    "\n",
    "def get_means_p(problems, fi_df, hi_df):\n",
    "    p_vals = defaultdict(float)\n",
    "    case_dict = defaultdict(list)\n",
    "    control_dict = defaultdict(list)\n",
    "    pro_score_mapping(fi_df, hi_df)\n",
    "    for k in sorted(problems):\n",
    "        p, case, control = final_p(pro_map, k, hi_df)\n",
    "        p_vals[k] = p\n",
    "        case_dict[k] = case\n",
    "        control_dict[k] = control\n",
    "    return p_vals, case_dict, control_dict"
   ]
  },
  {
   "cell_type": "code",
   "execution_count": 59,
   "metadata": {
    "collapsed": false
   },
   "outputs": [
    {
     "name": "stdout",
     "output_type": "stream",
     "text": [
      "    (8, assign)\n",
      "ID             \n",
      "247         NaN\n",
      "336         NaN\n",
      "109         NaN\n",
      "280         NaN\n",
      "221         NaN\n",
      "105         NaN\n",
      "308           1\n",
      "152           1\n",
      "162           1\n",
      "147           0\n",
      "199         NaN\n",
      "254         NaN\n",
      "332           0\n",
      "185           1\n",
      "93          NaN\n",
      "121           1\n",
      "261           1\n",
      "153         NaN\n",
      "190           1\n",
      "101           0\n",
      "242         NaN\n",
      "204           1\n",
      "220           0\n",
      "65          NaN\n",
      "79          NaN\n",
      "131           1\n",
      "181           0\n",
      "315         NaN\n",
      "231           1\n",
      "164           1\n",
      "..          ...\n",
      "237           0\n",
      "149           0\n",
      "240           0\n",
      "184           0\n",
      "126           0\n",
      "59            1\n",
      "250           0\n",
      "287           1\n",
      "209           1\n",
      "60            0\n",
      "307           1\n",
      "135           0\n",
      "320           0\n",
      "296           0\n",
      "258           0\n",
      "167           0\n",
      "133           0\n",
      "42            0\n",
      "234           1\n",
      "206           0\n",
      "91            1\n",
      "46            0\n",
      "81            1\n",
      "214           0\n",
      "150           1\n",
      "257           0\n",
      "330           1\n",
      "226           1\n",
      "249           0\n",
      "314           1\n",
      "\n",
      "[245 rows x 1 columns]\n",
      "    (4, assign)\n",
      "ID             \n",
      "247         NaN\n",
      "336         NaN\n",
      "109         NaN\n",
      "280         NaN\n",
      "221         NaN\n",
      "105         NaN\n",
      "308           1\n",
      "152           1\n",
      "162           0\n",
      "147           0\n",
      "199         NaN\n",
      "254         NaN\n",
      "332           0\n",
      "185           1\n",
      "93          NaN\n",
      "121           1\n",
      "261           1\n",
      "153         NaN\n",
      "190           0\n",
      "101           0\n",
      "242         NaN\n",
      "204           0\n",
      "220           1\n",
      "65          NaN\n",
      "79          NaN\n",
      "131           0\n",
      "181           1\n",
      "315         NaN\n",
      "231           0\n",
      "164           0\n",
      "..          ...\n",
      "237           0\n",
      "149           0\n",
      "240           0\n",
      "184           1\n",
      "126           1\n",
      "59            1\n",
      "250           1\n",
      "287           0\n",
      "209           0\n",
      "60            1\n",
      "307           1\n",
      "135           1\n",
      "320           0\n",
      "296           1\n",
      "258           1\n",
      "167           1\n",
      "133           1\n",
      "42            0\n",
      "234           0\n",
      "206           1\n",
      "91            1\n",
      "46            0\n",
      "81            0\n",
      "214           0\n",
      "150           0\n",
      "257           0\n",
      "330           0\n",
      "226           0\n",
      "249           0\n",
      "314           0\n",
      "\n",
      "[245 rows x 1 columns]\n",
      "    (5, assign)\n",
      "ID             \n",
      "247         NaN\n",
      "336         NaN\n",
      "109         NaN\n",
      "280         NaN\n",
      "221         NaN\n",
      "105         NaN\n",
      "308           1\n",
      "152           1\n",
      "162           1\n",
      "147           1\n",
      "199         NaN\n",
      "254         NaN\n",
      "332           0\n",
      "185           1\n",
      "93          NaN\n",
      "121           0\n",
      "261           1\n",
      "153         NaN\n",
      "190           0\n",
      "101           1\n",
      "242         NaN\n",
      "204           0\n",
      "220           1\n",
      "65          NaN\n",
      "79          NaN\n",
      "131           0\n",
      "181           0\n",
      "315         NaN\n",
      "231           0\n",
      "164           0\n",
      "..          ...\n",
      "237           1\n",
      "149           1\n",
      "240           0\n",
      "184           1\n",
      "126           0\n",
      "59            0\n",
      "250           0\n",
      "287           0\n",
      "209           0\n",
      "60            1\n",
      "307           0\n",
      "135           1\n",
      "320           0\n",
      "296           1\n",
      "258           1\n",
      "167           0\n",
      "133           1\n",
      "42            1\n",
      "234           1\n",
      "206           1\n",
      "91            0\n",
      "46            0\n",
      "81            0\n",
      "214           1\n",
      "150           1\n",
      "257           1\n",
      "330           0\n",
      "226           1\n",
      "249           0\n",
      "314           1\n",
      "\n",
      "[245 rows x 1 columns]\n",
      "    (6, assign)\n",
      "ID             \n",
      "247         NaN\n",
      "336         NaN\n",
      "109         NaN\n",
      "280         NaN\n",
      "221         NaN\n",
      "105         NaN\n",
      "308           1\n",
      "152           0\n",
      "162           0\n",
      "147           0\n",
      "199         NaN\n",
      "254         NaN\n",
      "332           1\n",
      "185           1\n",
      "93          NaN\n",
      "121           1\n",
      "261           1\n",
      "153         NaN\n",
      "190           1\n",
      "101           0\n",
      "242         NaN\n",
      "204           1\n",
      "220           1\n",
      "65          NaN\n",
      "79          NaN\n",
      "131           1\n",
      "181           1\n",
      "315         NaN\n",
      "231           1\n",
      "164           0\n",
      "..          ...\n",
      "237           0\n",
      "149           1\n",
      "240           0\n",
      "184           0\n",
      "126           1\n",
      "59            0\n",
      "250           0\n",
      "287           1\n",
      "209           0\n",
      "60            0\n",
      "307           0\n",
      "135           0\n",
      "320           1\n",
      "296           0\n",
      "258           1\n",
      "167           0\n",
      "133           0\n",
      "42            1\n",
      "234           1\n",
      "206           0\n",
      "91            0\n",
      "46            0\n",
      "81            0\n",
      "214           0\n",
      "150           1\n",
      "257           0\n",
      "330           0\n",
      "226           0\n",
      "249           0\n",
      "314           0\n",
      "\n",
      "[245 rows x 1 columns]\n",
      "    (6, assign)\n",
      "ID             \n",
      "247         NaN\n",
      "336         NaN\n",
      "109         NaN\n",
      "280         NaN\n",
      "221         NaN\n",
      "105         NaN\n",
      "308           1\n",
      "152           0\n",
      "162           0\n",
      "147           0\n",
      "199         NaN\n",
      "254         NaN\n",
      "332           1\n",
      "185           1\n",
      "93          NaN\n",
      "121           1\n",
      "261           1\n",
      "153         NaN\n",
      "190           1\n",
      "101           0\n",
      "242         NaN\n",
      "204           1\n",
      "220           1\n",
      "65          NaN\n",
      "79          NaN\n",
      "131           1\n",
      "181           1\n",
      "315         NaN\n",
      "231           1\n",
      "164           0\n",
      "..          ...\n",
      "237           0\n",
      "149           1\n",
      "240           0\n",
      "184           0\n",
      "126           1\n",
      "59            0\n",
      "250           0\n",
      "287           1\n",
      "209           0\n",
      "60            0\n",
      "307           0\n",
      "135           0\n",
      "320           1\n",
      "296           0\n",
      "258           1\n",
      "167           0\n",
      "133           0\n",
      "42            1\n",
      "234           1\n",
      "206           0\n",
      "91            0\n",
      "46            0\n",
      "81            0\n",
      "214           0\n",
      "150           1\n",
      "257           0\n",
      "330           0\n",
      "226           0\n",
      "249           0\n",
      "314           0\n",
      "\n",
      "[245 rows x 1 columns]\n",
      "    (6, assign)\n",
      "ID             \n",
      "247         NaN\n",
      "336         NaN\n",
      "109         NaN\n",
      "280         NaN\n",
      "221         NaN\n",
      "105         NaN\n",
      "308           1\n",
      "152           0\n",
      "162           0\n",
      "147           0\n",
      "199         NaN\n",
      "254         NaN\n",
      "332           1\n",
      "185           1\n",
      "93          NaN\n",
      "121           1\n",
      "261           1\n",
      "153         NaN\n",
      "190           1\n",
      "101           0\n",
      "242         NaN\n",
      "204           1\n",
      "220           1\n",
      "65          NaN\n",
      "79          NaN\n",
      "131           1\n",
      "181           1\n",
      "315         NaN\n",
      "231           1\n",
      "164           0\n",
      "..          ...\n",
      "237           0\n",
      "149           1\n",
      "240           0\n",
      "184           0\n",
      "126           1\n",
      "59            0\n",
      "250           0\n",
      "287           1\n",
      "209           0\n",
      "60            0\n",
      "307           0\n",
      "135           0\n",
      "320           1\n",
      "296           0\n",
      "258           1\n",
      "167           0\n",
      "133           0\n",
      "42            1\n",
      "234           1\n",
      "206           0\n",
      "91            0\n",
      "46            0\n",
      "81            0\n",
      "214           0\n",
      "150           1\n",
      "257           0\n",
      "330           0\n",
      "226           0\n",
      "249           0\n",
      "314           0\n",
      "\n",
      "[245 rows x 1 columns]\n"
     ]
    }
   ],
   "source": [
    "p_vals, case, control = get_means_p(pro_map, final_df, hints_df)"
   ]
  },
  {
   "cell_type": "markdown",
   "metadata": {},
   "source": [
    "## Plot results"
   ]
  },
  {
   "cell_type": "code",
   "execution_count": 43,
   "metadata": {
    "code_folding": [],
    "collapsed": false
   },
   "outputs": [],
   "source": [
    "from pylab import plot, show, savefig, xlim, figure, \\\n",
    "                hold, ylim, legend, boxplot, setp, axes\n",
    "from math import log10, floor\n",
    "\n",
    "def fig_setting(base_size):\n",
    "    SMALL_SIZE = base_size\n",
    "    MEDIUM_SIZE = base_size+2\n",
    "    BIGGER_SIZE = base_size+4\n",
    "    plt.figure(figsize=(10,8))\n",
    "    plt.rc('font', size=BIGGER_SIZE)          # controls default text sizes\n",
    "    plt.rc('axes', titlesize=BIGGER_SIZE)     # fontsize of the axes title\n",
    "    plt.rc('axes', labelsize=SMALL_SIZE)    # fontsize of the x and y labels\n",
    "    plt.rc('xtick', labelsize=SMALL_SIZE)    # fontsize of the tick labels\n",
    "    plt.rc('ytick', labelsize=SMALL_SIZE)    # fontsize of the tick labels\n",
    "    plt.rc('legend', fontsize=MEDIUM_SIZE)    # legend fontsize\n",
    "    return plt\n",
    "\n",
    "def setBoxColors(bp):\n",
    "    setp(bp['boxes'][0], color='blue')\n",
    "    setp(bp['caps'][0], color='blue')\n",
    "    setp(bp['caps'][1], color='blue')\n",
    "    setp(bp['whiskers'][0], color='blue')\n",
    "    setp(bp['whiskers'][1], color='blue')\n",
    "    setp(bp['fliers'][0], color='blue')\n",
    "    setp(bp['medians'][0], color='blue')\n",
    "\n",
    "    setp(bp['boxes'][1], color='red')\n",
    "    setp(bp['caps'][2], color='red')\n",
    "    setp(bp['caps'][3], color='red')\n",
    "    setp(bp['whiskers'][2], color='red')\n",
    "    setp(bp['whiskers'][3], color='red')\n",
    "    setp(bp['fliers'][1], color='red')\n",
    "    setp(bp['medians'][1], color='red')\n",
    "    \n",
    "def box_plots(problems, p_vals, control_fea, case_fea, title, ylabel, ymax):\n",
    "    fig = fig_setting(16)\n",
    "    fig.figure(figsize=(10,8))\n",
    "    ax = axes()\n",
    "    hold(True)\n",
    "\n",
    "    pros = []\n",
    "    m = 0\n",
    "    for p in problems:\n",
    "        pv = p_vals[p]\n",
    "        if pv:\n",
    "            if pv > 0.01:\n",
    "                pv = round(pv, 2)\n",
    "            elif pv > 0.001:\n",
    "                pv = round(pv, 3)\n",
    "            elif pv > 0.0001:\n",
    "                pv = round(pv, 4)\n",
    "            else:\n",
    "                pv = '10'+str(pv)[str(pv).index('e')+1:]\n",
    "            bp = boxplot([control_fea[p], case_fea[p]], positions = [m*3+1, m*3+2], widths = 0.8)#, vert=False)\n",
    "            setBoxColors(bp)\n",
    "            pros.append('{0},{1}'.format(p, pv))\n",
    "        else:\n",
    "            bp = boxplot([[],[]], positions = [m*3+1, m*3+2], widths = 0.8)#, vert=False)\n",
    "            setBoxColors(bp)\n",
    "            pros.append('{0}'.format(p))\n",
    "        m += 1\n",
    "\n",
    "    # set axes limits and labels\n",
    "    xlim(0,len(pros)*3)\n",
    "    ylim(0,ymax)\n",
    "    ax.set_xticks(np.array(range(15, 15*len(pros)*2, 30))/10.)\n",
    "    ax.set_xticklabels(pros, rotation='vertical')\n",
    "    ax.set_title(title)\n",
    "    ax.set_xlabel('Problem, P-Values')\n",
    "    ax.set_ylabel(ylabel)\n",
    "\n",
    "    # draw temporary red and blue lines and use them to create a legend\n",
    "    hB, = plot([1,1],'b-')\n",
    "    hR, = plot([1,1],'r-')\n",
    "    legend((hB, hR),('Control', 'Case'), loc=4)\n",
    "    hB.set_visible(False)\n",
    "    hR.set_visible(False)\n",
    "    fig.tight_layout()"
   ]
  },
  {
   "cell_type": "code",
   "execution_count": 45,
   "metadata": {
    "collapsed": false
   },
   "outputs": [
    {
     "data": {
      "text/plain": [
       "['5:CDF',\n",
       " '6:Chebyshev',\n",
       " '6:Markov',\n",
       " '8:ContiTable',\n",
       " '10:Poisson',\n",
       " '4:CondProb']"
      ]
     },
     "execution_count": 45,
     "metadata": {},
     "output_type": "execute_result"
    }
   ],
   "source": [
    "pro_map.keys()"
   ]
  },
  {
   "cell_type": "code",
   "execution_count": 44,
   "metadata": {
    "collapsed": false
   },
   "outputs": [
    {
     "data": {
      "text/plain": [
       "<matplotlib.figure.Figure at 0x109cca450>"
      ]
     },
     "metadata": {},
     "output_type": "display_data"
    },
    {
     "data": {
      "image/png": "[encoded data removed]",
      "text/plain": [
       "<matplotlib.figure.Figure at 0x118179050>"
      ]
     },
     "metadata": {},
     "output_type": "display_data"
    }
   ],
   "source": [
    "box_plots(sorted(pro_map.keys()), p_vals, control, case, 'Final Score', 'Final Score', 1)"
   ]
  },
  {
   "cell_type": "code",
   "execution_count": 50,
   "metadata": {
    "collapsed": false
   },
   "outputs": [
    {
     "data": {
      "text/plain": [
       "ID\n",
       "152    0.6\n",
       "171    1.0\n",
       "248    1.0\n",
       "72     1.0\n",
       "38     0.6\n",
       "255    0.6\n",
       "194    0.6\n",
       "92     1.0\n",
       "271    1.0\n",
       "281    1.0\n",
       "267    0.6\n",
       "118    0.8\n",
       "340    1.0\n",
       "111    0.0\n",
       "264    0.6\n",
       "145    0.6\n",
       "178    1.0\n",
       "333    0.6\n",
       "251    1.0\n",
       "170    1.0\n",
       "193    0.6\n",
       "277    0.6\n",
       "56     0.8\n",
       "99     0.6\n",
       "59     0.6\n",
       "60     1.0\n",
       "307    0.6\n",
       "258    1.0\n",
       "81     1.0\n",
       "214    1.0\n",
       "150    1.0\n",
       "Name: 6:Markov, dtype: float64"
      ]
     },
     "execution_count": 50,
     "metadata": {},
     "output_type": "execute_result"
    }
   ],
   "source": [
    "case['6:Markov']"
   ]
  },
  {
   "cell_type": "code",
   "execution_count": 22,
   "metadata": {
    "collapsed": false
   },
   "outputs": [
    {
     "data": {
      "image/png": "[encoded data removed]",
      "text/plain": [
       "<matplotlib.figure.Figure at 0x109a47910>"
      ]
     },
     "metadata": {},
     "output_type": "display_data"
    }
   ],
   "source": [
    "plt = fig_setting()\n",
    "x = range(len(y_hint))\n",
    "plt.xticks(x, pro_map.keys())\n",
    "plot_hints(x, y_hint, y_nohint)\n",
    "plt.xlabel('Final Problem ID')\n",
    "plt.ylabel('Final Score (%)')\n",
    "plt.title('Final score comparison')\n",
    "plt.xlim((-0.3, 5.3))\n",
    "for i,j,k in zip(x,y_hint,p_vals):\n",
    "    plt.annotate(\"%.3f\"%k, xy=(i, j), xytext=(-15, 7), textcoords='offset points', fontsize=15)\n",
    "plt.savefig('../graphs/final_compare.png')"
   ]
  },
  {
   "cell_type": "markdown",
   "metadata": {},
   "source": [
    "## Get problem statistics"
   ]
  },
  {
   "cell_type": "code",
   "execution_count": 17,
   "metadata": {
    "collapsed": false
   },
   "outputs": [],
   "source": [
    "### Look at each assignment\n",
    "def stats_between_dfs_assign(h_df, noh_df, fi_pros):\n",
    "    h = len(h_df)\n",
    "    no_h = len(noh_df)\n",
    "    if h == 0 or no_h == 0:\n",
    "        print \"ERROR: Empty dataframe passed in...\"\n",
    "        return\n",
    "    \n",
    "    hint_sum = h_df[fi_pros[0]]\n",
    "    nh_sum = noh_df[fi_pros[0]]\n",
    "    if len(fi_pros) > 1:\n",
    "        for f in fi_pros[1:]:\n",
    "            hint_sum = h_df[f] + hint_sum\n",
    "            nh_sum = noh_df[f] + nh_sum\n",
    "        hint_sum = hint_sum/len(fi_pros)\n",
    "        nh_sum = nh_sum/len(fi_pros)\n",
    "        \n",
    "    hint_mean = hint_sum.mean()\n",
    "    nh_mean = nh_sum.mean()\n",
    "    hint_std = hint_sum.std()\n",
    "    nh_std = nh_sum.std()\n",
    "    \n",
    "    t,p = stats.ttest_ind_from_stats(hint_mean, hint_std, h, nh_mean, nh_std, no_h)\n",
    "    return p, hint_mean, nh_mean\n",
    "\n",
    "def assign_p(assign_id, hi_df, mapping):\n",
    "    Comb_h_df = hi_df[hi_df[assign_id, 'hint_count'] > 0]\n",
    "    Comb_nh_df = hi_df[(hi_df[assign_id, 'hint_count'] == 0) & (hi_df[assign_id, 'assign'] == '0')]\n",
    "    Comb_ns_df = hi_df[(hi_df[assign_id, 'hint_count'] == 0) & (hi_df[assign_id, 'assign'] != '0')]\n",
    "    \n",
    "    #print \"{0} students with hints\".format(len(Comb_h_df))\n",
    "    #print \"{0} students with no hint assigned\".format(len(Comb_nh_df))\n",
    "    #print \"{0} students ignore hints\".format(len(Comb_ns_df))\n",
    "    st, h_mean, nh_mean = stats_between_dfs_assign(Comb_h_df, Comb_nh_df, mapping[assign_id])\n",
    "    return st, h_mean, nh_mean\n",
    "\n",
    "def get_assign_means_p(assigns, fi_df, hi_df):\n",
    "    p_vals = []\n",
    "    h_means = []\n",
    "    nh_means = []\n",
    "    pro_score_mapping(fi_df, hi_df)\n",
    "    for k in sorted(assigns):\n",
    "        #print k\n",
    "        p, h_mean, nh_mean = assign_p(k, hi_df, fin_map)\n",
    "        p_vals.append(p)\n",
    "        h_means.append(h_mean)\n",
    "        nh_means.append(nh_mean)\n",
    "    return p_vals, h_means, nh_means"
   ]
  },
  {
   "cell_type": "code",
   "execution_count": 18,
   "metadata": {
    "collapsed": false
   },
   "outputs": [],
   "source": [
    "p_vals, y_hint, y_nohint = get_assign_means_p(fin_map, final_df, hints_df)"
   ]
  },
  {
   "cell_type": "markdown",
   "metadata": {},
   "source": [
    "## Plot results"
   ]
  },
  {
   "cell_type": "code",
   "execution_count": 19,
   "metadata": {
    "collapsed": false
   },
   "outputs": [
    {
     "data": {
      "image/png": "[encoded data removed]",
      "text/plain": [
       "<matplotlib.figure.Figure at 0x1149fcf10>"
      ]
     },
     "metadata": {},
     "output_type": "display_data"
    }
   ],
   "source": [
    "plt = fig_setting()\n",
    "x = range(len(y_hint))\n",
    "plt.xticks(x, sorted(fin_map))\n",
    "plot_hints(x, y_hint, y_nohint)\n",
    "plt.xlabel('Final Problem ID')\n",
    "plt.ylabel('Final Score (%)')\n",
    "plt.xlim((-0.2, 3.2))\n",
    "plt.legend(loc=1)\n",
    "for i,j,k in zip(x,y_hint,p_vals):\n",
    "    plt.annotate(\"%.3f\"%k, xy=(i, j), xytext=(-10, 20), textcoords='offset points', fontsize=13)\n",
    "plt.title('Final score comparison')\n",
    "#plt.savefig('../graphs/final_compare_assign.png')"
   ]
  },
  {
   "cell_type": "markdown",
   "metadata": {},
   "source": [
    "## Correlation"
   ]
  },
  {
   "cell_type": "code",
   "execution_count": 20,
   "metadata": {
    "collapsed": true
   },
   "outputs": [],
   "source": [
    "def corr_stats(h_df, noh_df, final_pro_name, print_enabled=True):\n",
    "    \"\"\"\n",
    "    h_df: dataframe with hints\n",
    "    noh_df: dataframe with no hint\n",
    "    final_col: name of final column\n",
    "    \"\"\"\n",
    "    h = len(h_df)\n",
    "    no_h = len(noh_df)\n",
    "    if h == 0 or no_h == 0:\n",
    "        return\n",
    "    \n",
    "    hint_pro = h_df[final_pro_name+'_HintCount'].tolist()\n",
    "    \n",
    "    hint_fi = h_df[final_pro_name].tolist()\n",
    "    nh_fi = noh_df[final_pro_name].tolist()\n",
    "    \n",
    "    if(print_enabled):\n",
    "        print final_pro_name\n",
    "        print h\n",
    "        print no_h\n",
    "        print 'with_hint: ', h/(h+no_h*1.)\n",
    "        print 'with_no_hint: ', no_h/(h+no_h*1.)\n",
    "        print '\\n\\n'\n",
    "    return stats.pearsonr(hint_pro, hint_fi)\n",
    "\n",
    "def corr_p_val():\n",
    "    all_pros = []\n",
    "    for pro_name in sorted(pro_map.keys()):\n",
    "        print pro_name\n",
    "        p = [(t[0], t[1], 'hint_count') for t in pro_map[pro_name]]\n",
    "        hints_df[pro_name+'_HintCount'] = hints_df[p].sum(axis=1)\n",
    "        h_df = hints_df[hints_df[pro_name+'_HintCount'] > 0]\n",
    "        nh_df = hints_df[hints_df[pro_name+'_HintCount'] == 0]\n",
    "        st = corr_stats(h_df, nh_df, pro_name, False)\n",
    "        all_pros.append(st)\n",
    "    return all_pros"
   ]
  },
  {
   "cell_type": "code",
   "execution_count": 21,
   "metadata": {
    "collapsed": false,
    "scrolled": true
   },
   "outputs": [
    {
     "name": "stdout",
     "output_type": "stream",
     "text": [
      "10:Poisson\n",
      "4:CondProb\n",
      "5:CDF\n",
      "6:Chebyshev\n",
      "6:Markov\n",
      "8:ContiTable\n"
     ]
    },
    {
     "data": {
      "text/plain": [
       "[(-0.047626555316083348, 0.64672169908626809),\n",
       " (-0.015824678797446198, 0.92382584002882906),\n",
       " (-0.055773753559113438, 0.45708858781784611),\n",
       " (0.0908988021562947, 0.48974174999733355),\n",
       " (-0.49090578975894344, 0.005045901062410766),\n",
       " (-0.051240567128469597, 0.56568940825598135)]"
      ]
     },
     "execution_count": 21,
     "metadata": {},
     "output_type": "execute_result"
    }
   ],
   "source": [
    "corr_p_val()"
   ]
  },
  {
   "cell_type": "code",
   "execution_count": 22,
   "metadata": {
    "collapsed": false
   },
   "outputs": [
    {
     "data": {
      "text/plain": [
       "(-0.1863001998374289, 0.0042409267823381551)"
      ]
     },
     "execution_count": 22,
     "metadata": {},
     "output_type": "execute_result"
    }
   ],
   "source": [
    "p = [(t[0], t[1], 'hint_count') for t in prob_list if int(t[0])>3]\n",
    "hints_df['Total_HintCount'] = hints_df[p].sum(axis=1)\n",
    "hints_df['Final_Score'] = final_df['Total Score']\n",
    "h_df = hints_df[hints_df['Total_HintCount'] > 0]\n",
    "h_fi = h_df['Final_Score'].tolist()\n",
    "h_hw = h_df['Total_HintCount'].tolist()\n",
    "stats.pearsonr(h_hw, h_fi)"
   ]
  },
  {
   "cell_type": "code",
   "execution_count": 23,
   "metadata": {
    "collapsed": false
   },
   "outputs": [
    {
     "data": {
      "text/plain": [
       "[<matplotlib.lines.Line2D at 0x108fa4a50>]"
      ]
     },
     "execution_count": 23,
     "metadata": {},
     "output_type": "execute_result"
    },
    {
     "data": {
      "image/png": "[encoded data removed]",
      "text/plain": [
       "<matplotlib.figure.Figure at 0x108fa4f90>"
      ]
     },
     "metadata": {},
     "output_type": "display_data"
    }
   ],
   "source": [
    "plt.xlabel('number of hints')\n",
    "plt.ylabel('final score')\n",
    "plt.plot(h_hw, h_fi, 'ro')"
   ]
  },
  {
   "cell_type": "code",
   "execution_count": null,
   "metadata": {
    "collapsed": true
   },
   "outputs": [],
   "source": []
  }
 ],
 "metadata": {
  "kernelspec": {
   "display_name": "Python 2",
   "language": "python",
   "name": "python2"
  },
  "language_info": {
   "codemirror_mode": {
    "name": "ipython",
    "version": 2
   },
   "file_extension": ".py",
   "mimetype": "text/x-python",
   "name": "python",
   "nbconvert_exporter": "python",
   "pygments_lexer": "ipython2",
   "version": "2.7.9"
  }
 },
 "nbformat": 4,
 "nbformat_minor": 0
}
