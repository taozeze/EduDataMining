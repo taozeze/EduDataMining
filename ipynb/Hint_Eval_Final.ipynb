{
 "cells": [
  {
   "cell_type": "code",
   "execution_count": 1,
   "metadata": {
    "collapsed": false
   },
   "outputs": [],
   "source": [
    "%matplotlib inline \n",
    "import matplotlib.pyplot as plt\n",
    "import warnings\n",
    "warnings.filterwarnings('ignore')\n",
    "\n",
    "import pickle as pkl\n",
    "import pandas as pd\n",
    "from pandas import DataFrame as df\n",
    "from collections import defaultdict\n",
    "import scipy.stats as stats\n",
    "import numpy as np\n",
    "SMALL_SIZE = 12\n",
    "MEDIUM_SIZE = 14\n",
    "BIGGER_SIZE = 16"
   ]
  },
  {
   "cell_type": "code",
   "execution_count": 2,
   "metadata": {
    "collapsed": true
   },
   "outputs": [],
   "source": [
    "def fig_setting():\n",
    "    plt.figure(figsize=(10,5))\n",
    "    plt.rc('font', size=BIGGER_SIZE)          # controls default text sizes\n",
    "    plt.rc('axes', titlesize=BIGGER_SIZE)     # fontsize of the axes title\n",
    "    plt.rc('axes', labelsize=MEDIUM_SIZE)    # fontsize of the x and y labels\n",
    "    plt.rc('xtick', labelsize=SMALL_SIZE)    # fontsize of the tick labels\n",
    "    plt.rc('ytick', labelsize=SMALL_SIZE)    # fontsize of the tick labels\n",
    "    plt.rc('legend', fontsize=MEDIUM_SIZE)    # legend fontsize\n",
    "    return plt\n",
    "\n",
    "def plot_hints(x, y_hint, y_nohint):\n",
    "    plt.plot(x, y_hint, label='hint')\n",
    "    plt.plot(x, y_nohint, label='no hint')\n",
    "    plt.legend(loc=4)\n",
    "    plt.xticks(x)"
   ]
  },
  {
   "cell_type": "code",
   "execution_count": 3,
   "metadata": {
    "collapsed": false
   },
   "outputs": [],
   "source": [
    "HW_data = pkl.load(open('pkl/HW_df.pkl', 'rb'))\n",
    "hints_df = pkl.load(open('pkl/hints_df_all.pkl', 'r'))"
   ]
  },
  {
   "cell_type": "code",
   "execution_count": 4,
   "metadata": {
    "collapsed": false
   },
   "outputs": [
    {
     "name": "stdout",
     "output_type": "stream",
     "text": [
      "username ('7', '6', 'hint_count') ('5', 'assign') ('7', '6', 'tries')\n"
     ]
    }
   ],
   "source": [
    "print hints_df.columns[0], hints_df.columns[1], hints_df.columns[37], hints_df.columns[42]"
   ]
  },
  {
   "cell_type": "code",
   "execution_count": 5,
   "metadata": {
    "collapsed": false
   },
   "outputs": [],
   "source": [
    "### Add hint count for each assignment\n",
    "hint_count_ids = [c for c in hints_df.columns if len(c) == 3 and c[2] == 'hint_count']\n",
    "for h in hint_count_ids:\n",
    "    if (h[0], 'hint_count') not in hints_df.columns:\n",
    "        hints_df[(h[0], 'hint_count')] = hints_df[h]\n",
    "    else:\n",
    "        hints_df[(h[0], 'hint_count')] += hints_df[h]"
   ]
  },
  {
   "cell_type": "code",
   "execution_count": 6,
   "metadata": {
    "collapsed": false
   },
   "outputs": [],
   "source": [
    "cols = HW_data.columns\n",
    "HW_data['username'] = HW_data.index"
   ]
  },
  {
   "cell_type": "code",
   "execution_count": 11,
   "metadata": {
    "collapsed": false
   },
   "outputs": [],
   "source": [
    "prob_list = list(set([(c[0],c[1]) for c in cols if len(c)==3]))"
   ]
  },
  {
   "cell_type": "code",
   "execution_count": 12,
   "metadata": {
    "collapsed": false
   },
   "outputs": [],
   "source": [
    "final_df = pd.read_pickle('pkl/final_df.pkl')\n",
    "weak_final_df = final_df[final_df['Total Score'] <= final_df['Total Score'].mean()]\n",
    "strong_final_df = final_df[final_df['Total Score'] > final_df['Total Score'].mean()]\n",
    "hints_df['Total Score'] = final_df['Total Score']\n",
    "weak_hint_df = hints_df[hints_df['Total Score']  <= final_df['Total Score'].mean()]\n",
    "strong_hint_df = hints_df[hints_df['Total Score']  > final_df['Total Score'].mean()]"
   ]
  },
  {
   "cell_type": "code",
   "execution_count": 13,
   "metadata": {
    "collapsed": false
   },
   "outputs": [
    {
     "data": {
      "text/plain": [
       "Index([u'Total Score', u'Submission Time', u'1: Combinatorics',\n",
       "       u'2: Two Pairs', u'3.1: Part 1-3', u'3.2: Part 4-6',\n",
       "       u'4: Color-blindness', u'5: CDF', u'6.1: Markov', u'6.2: Chebyshev',\n",
       "       u'7: True/False', u'8.1: Distribution of X', u'8.2: Distribution of Y',\n",
       "       u'8.3: Relationship between X and Y', u'9.1: alpha = 2',\n",
       "       u'9.2: alpha = 3', u'9.3: alpha = 4', u'11: Hypothesis Testing',\n",
       "       u'strong', u'weak', u'mid', u'group', u'username', u'10: Poisson'],\n",
       "      dtype='object')"
      ]
     },
     "execution_count": 13,
     "metadata": {},
     "output_type": "execute_result"
    }
   ],
   "source": [
    "final_df.columns"
   ]
  },
  {
   "cell_type": "code",
   "execution_count": 14,
   "metadata": {
    "collapsed": false
   },
   "outputs": [],
   "source": [
    "def pro_score_mapping(fi_df, hi_df):\n",
    "    hi_df['1:Comb'] = fi_df['1: Combinatorics']/9.\n",
    "    hi_df['2:Poker'] = fi_df['2: Two Pairs']/10.\n",
    "    hi_df['3:StarBars'] = (fi_df['3.1: Part 1-3']+final_df['3.2: Part 4-6'])/6.\n",
    "    hi_df['4:CondProb'] = fi_df['4: Color-blindness']/5.\n",
    "    hi_df['5:CDF'] = fi_df['5: CDF']/15.\n",
    "    hi_df['6:Markov'] = fi_df['6.1: Markov']/5.\n",
    "    hi_df['6:Chebyshev'] = fi_df['6.2: Chebyshev']/5.\n",
    "    hi_df['8:ContiTable'] = (fi_df['8.1: Distribution of X']+final_df['8.2: Distribution of Y']+final_df['8.3: Relationship between X and Y'])/10.\n",
    "    hi_df['9:HeavyLightTail'] = (fi_df['9.1: alpha = 2'] + final_df['9.2: alpha = 3'] + final_df['9.3: alpha = 4'])/10.\n",
    "    hi_df['10:Poisson'] = fi_df['10: Poisson'] / 10.\n",
    "    hi_df['11:Hypothesis'] = fi_df['11: Hypothesis Testing']/5."
   ]
  },
  {
   "cell_type": "code",
   "execution_count": 15,
   "metadata": {
    "collapsed": true
   },
   "outputs": [],
   "source": [
    "pro_map = {}\n",
    "#pro_map['1:Comb'] = [('2','12'), ('3','1'), ('3','2'), ('3','3'), ('3','5'), ('3','6'), ('3','7')]\n",
    "#pro_map['3:StarBars'] = [('3','8'), ('3','9')]\n",
    "pro_map['4:CondProb'] = [('4','1'), ('4','2')]\n",
    "pro_map['5:CDF'] =  [('5','1'), ('5','2'), ('5','3'), ('5','4')]\n",
    "pro_map['6:Markov'] = [('6','4')]\n",
    "pro_map['6:Chebyshev'] = [('6','6')]\n",
    "pro_map['8:ContiTable'] = [('6','2'), ('6','3')]\n",
    "pro_map['10:Poisson'] = [('8','3'), ('8','4'), ('8','5'), ('8','6')]\n",
    "\n",
    "fin_map = {}\n",
    "fin_map['4'] = ['4:CondProb']\n",
    "fin_map['5'] = ['5:CDF']\n",
    "fin_map['6'] = ['6:Markov', '6:Chebyshev', '8:ContiTable']\n",
    "fin_map['8'] = ['10:Poisson']"
   ]
  },
  {
   "cell_type": "code",
   "execution_count": 24,
   "metadata": {
    "collapsed": false
   },
   "outputs": [],
   "source": [
    "### Look at each final problem\n",
    "def stats_between_dfs(h_df, noh_df, pro_name):\n",
    "    h = len(h_df)\n",
    "    no_h = len(noh_df)\n",
    "    if h == 0 or no_h == 0:\n",
    "        print \"ERROR: Empty dataframe passed in...\"\n",
    "        return\n",
    "    \n",
    "    hint_mean = h_df[pro_name].mean()\n",
    "    nh_mean = noh_df[pro_name].mean()\n",
    "    hint_std = h_df[pro_name].std()\n",
    "    nh_std = noh_df[pro_name].std()\n",
    "    \n",
    "    t,p = stats.ttest_ind_from_stats(hint_mean,hint_std, h, nh_mean, nh_std, no_h)\n",
    "    return p, hint_mean, nh_mean\n",
    "\n",
    "def final_p(mapping, pro_name, hi_df):\n",
    "    p = [(t[0], t[1], 'hint_count') for t in mapping[pro_name]]\n",
    "    assi = list(set([(t[0], 'assign') for t in mapping[pro_name]]))\n",
    "\n",
    "    hi_df[pro_name+'_hint_count'] = hi_df[p].sum(axis=1)\n",
    "    hi_df[pro_name+'_assign'] = hi_df[assi].sum(axis=1)\n",
    "    \n",
    "    Comb_h_df = hi_df[hi_df[pro_name+'_hint_count'] > 0]\n",
    "    Comb_nh_df = hi_df[(hi_df[pro_name+'_hint_count'] == 0) & (hi_df[pro_name+'_assign'] == 0)]\n",
    "    Comb_ns_df = hi_df[(hi_df[pro_name+'_hint_count'] == 0) & (hi_df[pro_name+'_assign'] != 0)]\n",
    "    \n",
    "    #print \"{0} students with hints\".format(len(Comb_h_df))\n",
    "    #print \"{0} students with no hint assigned\".format(len(Comb_nh_df))\n",
    "    #print \"{0} students ignore hints\".format(len(Comb_ns_df))\n",
    "    st, h_mean, nh_mean = stats_between_dfs(Comb_h_df, Comb_nh_df, pro_name)\n",
    "    return st, h_mean, nh_mean\n",
    "\n",
    "def get_means_p(problems, fi_df, hi_df):\n",
    "    p_vals = []\n",
    "    h_means = []\n",
    "    nh_means = []\n",
    "    pro_score_mapping(fi_df, hi_df)\n",
    "    for k in sorted(problems):\n",
    "        p, h_mean, nh_mean = final_p(pro_map, k, hi_df)\n",
    "        p_vals.append(p)\n",
    "        h_means.append(h_mean)\n",
    "        nh_means.append(nh_mean)\n",
    "    return p_vals, h_means, nh_means"
   ]
  },
  {
   "cell_type": "code",
   "execution_count": 95,
   "metadata": {
    "collapsed": true
   },
   "outputs": [],
   "source": [
    "p_vals, y_hint, y_nohint = get_means_p(pro_map, weak_final_df, weak_hint_df)"
   ]
  },
  {
   "cell_type": "code",
   "execution_count": 96,
   "metadata": {
    "collapsed": false
   },
   "outputs": [
    {
     "data": {
      "image/png": "[encoded data removed]",
      "text/plain": [
       "<matplotlib.figure.Figure at 0x112703b90>"
      ]
     },
     "metadata": {},
     "output_type": "display_data"
    }
   ],
   "source": [
    "plt = fig_setting()\n",
    "x = range(len(y_hint))\n",
    "plt.xticks(x, pro_map.keys())\n",
    "plot_hints(x, y_hint, y_nohint)\n",
    "plt.xlabel('Final Problem ID')\n",
    "plt.ylabel('Final Score (%)')\n",
    "plt.title('Final score comparison(Weak)')\n",
    "for i,j,k in zip(x,y_hint,p_vals):\n",
    "    plt.annotate(\"%.3f\"%k, xy=(i, j), xytext=(0, 20), textcoords='offset points', fontsize=10)\n",
    "plt.savefig('weak_final_compare.png')"
   ]
  },
  {
   "cell_type": "code",
   "execution_count": 73,
   "metadata": {
    "collapsed": false
   },
   "outputs": [],
   "source": [
    "### Look at each assignment\n",
    "def stats_between_dfs_assign(h_df, noh_df, fi_pros):\n",
    "    h = len(h_df)\n",
    "    no_h = len(noh_df)\n",
    "    if h == 0 or no_h == 0:\n",
    "        print \"ERROR: Empty dataframe passed in...\"\n",
    "        return\n",
    "    \n",
    "    hint_sum = h_df[fi_pros[0]]\n",
    "    nh_sum = noh_df[fi_pros[0]]\n",
    "    if len(fi_pros) > 1:\n",
    "        for f in fi_pros[1:]:\n",
    "            hint_sum = h_df[f] + hint_sum\n",
    "            nh_sum = noh_df[f] + nh_sum\n",
    "        hint_sum = hint_sum/len(fi_pros)\n",
    "        nh_sum = nh_sum/len(fi_pros)\n",
    "        \n",
    "    hint_mean = hint_sum.mean()\n",
    "    nh_mean = nh_sum.mean()\n",
    "    hint_std = hint_sum.std()\n",
    "    nh_std = nh_sum.std()\n",
    "    \n",
    "    t,p = stats.ttest_ind_from_stats(hint_mean, hint_std, h, nh_mean, nh_std, no_h)\n",
    "    return p, hint_mean, nh_mean\n",
    "\n",
    "def assign_p(assign_id, hi_df, mapping):\n",
    "    Comb_h_df = hi_df[hi_df[assign_id, 'hint_count'] > 0]\n",
    "    Comb_nh_df = hi_df[(hi_df[assign_id, 'hint_count'] == 0) & (hi_df[assign_id, 'assign'] == '0')]\n",
    "    Comb_ns_df = hi_df[(hi_df[assign_id, 'hint_count'] == 0) & (hi_df[assign_id, 'assign'] != '0')]\n",
    "    \n",
    "    #print \"{0} students with hints\".format(len(Comb_h_df))\n",
    "    #print \"{0} students with no hint assigned\".format(len(Comb_nh_df))\n",
    "    #print \"{0} students ignore hints\".format(len(Comb_ns_df))\n",
    "    st, h_mean, nh_mean = stats_between_dfs_assign(Comb_h_df, Comb_nh_df, mapping[assign_id])\n",
    "    return st, h_mean, nh_mean\n",
    "\n",
    "def get_assign_means_p(assigns, fi_df, hi_df):\n",
    "    p_vals = []\n",
    "    h_means = []\n",
    "    nh_means = []\n",
    "    pro_score_mapping(fi_df, hi_df)\n",
    "    for k in sorted(assigns):\n",
    "        #print k\n",
    "        p, h_mean, nh_mean = assign_p(k, hi_df, fin_map)\n",
    "        p_vals.append(p)\n",
    "        h_means.append(h_mean)\n",
    "        nh_means.append(nh_mean)\n",
    "    return p_vals, h_means, nh_means"
   ]
  },
  {
   "cell_type": "code",
   "execution_count": 100,
   "metadata": {
    "collapsed": false
   },
   "outputs": [],
   "source": [
    "p_vals, y_hint, y_nohint = get_assign_means_p(fin_map, final_df, hints_df)"
   ]
  },
  {
   "cell_type": "code",
   "execution_count": 102,
   "metadata": {
    "collapsed": false
   },
   "outputs": [
    {
     "data": {
      "image/png": "[encoded data removed]",
      "text/plain": [
       "<matplotlib.figure.Figure at 0x1138a0850>"
      ]
     },
     "metadata": {},
     "output_type": "display_data"
    }
   ],
   "source": [
    "plt = fig_setting()\n",
    "x = range(len(y_hint))\n",
    "plt.xticks(x, sorted(fin_map))\n",
    "plot_hints(x, y_hint, y_nohint)\n",
    "plt.xlabel('Final Problem ID')\n",
    "plt.ylabel('Final Score (%)')\n",
    "for i,j,k in zip(x,y_hint,p_vals):\n",
    "    plt.annotate(\"%.3f\"%k, xy=(i, j), xytext=(0, 20), textcoords='offset points', fontsize=10)\n",
    "plt.title('Final score comparison')\n",
    "plt.savefig('final_compare_assign.png')"
   ]
  },
  {
   "cell_type": "code",
   "execution_count": null,
   "metadata": {
    "collapsed": true
   },
   "outputs": [],
   "source": [
    "def corr_stats(h_df, noh_df, final_pro_name, print_enabled=True):\n",
    "    \"\"\"\n",
    "    h_df: dataframe with hints\n",
    "    noh_df: dataframe with no hint\n",
    "    final_col: name of final column\n",
    "    \"\"\"\n",
    "    h = len(h_df)\n",
    "    no_h = len(noh_df)\n",
    "    if h == 0 or no_h == 0:\n",
    "        return\n",
    "    \n",
    "    hint_pro = h_df[final_pro_name+'_HintCount'].tolist()\n",
    "    \n",
    "    hint_fi = h_df[final_pro_name].tolist()\n",
    "    nh_fi = noh_df[final_pro_name].tolist()\n",
    "    \n",
    "    if(print_enabled):\n",
    "        print final_pro_name\n",
    "        print h\n",
    "        print no_h\n",
    "        print 'with_hint: ', h/(h+no_h*1.)\n",
    "        print 'with_no_hint: ', no_h/(h+no_h*1.)\n",
    "        print '\\n\\n'\n",
    "    return stats.pearsonr(hint_pro, hint_fi)\n",
    "\n",
    "def corr_p_val():\n",
    "    all_pros = []\n",
    "    for pro_name in sorted(pro_map.keys()):\n",
    "        print pro_name\n",
    "        p = [(t[0], t[1], 'hint_count') for t in pro_map[pro_name]]\n",
    "        hints_df[pro_name+'_HintCount'] = hints_df[p].sum(axis=1)\n",
    "        h_df = hints_df[hints_df[pro_name+'_HintCount'] > 0]\n",
    "        nh_df = hints_df[hints_df[pro_name+'_HintCount'] == 0]\n",
    "        st = corr_stats(h_df, nh_df, pro_name, False)\n",
    "        all_pros.append(st)\n",
    "    return all_pros"
   ]
  },
  {
   "cell_type": "code",
   "execution_count": null,
   "metadata": {
    "collapsed": false,
    "scrolled": true
   },
   "outputs": [],
   "source": [
    "corr_p_val()"
   ]
  },
  {
   "cell_type": "code",
   "execution_count": null,
   "metadata": {
    "collapsed": false
   },
   "outputs": [],
   "source": [
    "p = [(t[0], t[1], 'hint_count') for t in problems]\n",
    "hints_df['Total_HintCount'] = hints_df[p].sum(axis=1)\n",
    "hints_df['Final_Score'] = final_df['Total Score']\n",
    "h_df = hints_df[hints_df['Total_HintCount'] > 0]\n",
    "h_fi = h_df['Final_Score'].tolist()\n",
    "h_hw = h_df['Total_HintCount'].tolist()\n",
    "stats.pearsonr(h_hw, h_fi)"
   ]
  },
  {
   "cell_type": "code",
   "execution_count": null,
   "metadata": {
    "collapsed": false
   },
   "outputs": [],
   "source": [
    "plt.xlabel('number of hints')\n",
    "plt.ylabel('final score')\n",
    "plt.plot(h_hw, h_fi, 'ro')"
   ]
  },
  {
   "cell_type": "code",
   "execution_count": null,
   "metadata": {
    "collapsed": true
   },
   "outputs": [],
   "source": []
  },
  {
   "cell_type": "code",
   "execution_count": null,
   "metadata": {
    "collapsed": true
   },
   "outputs": [],
   "source": [
    "### Split students in weak/strong group\n",
    "\n",
    "### Show all the number of students\n",
    "#        no-hint | got hint used it | got-hint no-show\n",
    "# strong\n",
    "# weak\n",
    "\n",
    "### Focus on weak group(look at strong group as well)\n",
    "### For each assignment look at the corresponding final problem grades\n",
    "### differences between no-hint group and hint-group\n",
    "### p-value per assignment (independent t-test)\n",
    "\n",
    "### Take average over all assignments"
   ]
  },
  {
   "cell_type": "markdown",
   "metadata": {
    "collapsed": true
   },
   "source": [
    "1. Change to HW problem ID.\n",
    "2. All features for all HWs. Try to differentiate differet groups. (Boosting binary strong/weak group - get confidence)\n",
    "3. Look only at the first two/four weeks HWs.\n",
    "\n",
    "4. Look at conference/journal that involve statistics. show quantitative results."
   ]
  },
  {
   "cell_type": "code",
   "execution_count": null,
   "metadata": {
    "collapsed": true
   },
   "outputs": [],
   "source": []
  },
  {
   "cell_type": "code",
   "execution_count": null,
   "metadata": {
    "collapsed": true
   },
   "outputs": [],
   "source": [
    "### Predicting final score"
   ]
  }
 ],
 "metadata": {
  "kernelspec": {
   "display_name": "Python 2",
   "language": "python",
   "name": "python2"
  },
  "language_info": {
   "codemirror_mode": {
    "name": "ipython",
    "version": 2
   },
   "file_extension": ".py",
   "mimetype": "text/x-python",
   "name": "python",
   "nbconvert_exporter": "python",
   "pygments_lexer": "ipython2",
   "version": "2.7.9"
  }
 },
 "nbformat": 4,
 "nbformat_minor": 0
}
