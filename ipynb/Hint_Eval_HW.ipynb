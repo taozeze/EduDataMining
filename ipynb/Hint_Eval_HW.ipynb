{
 "cells": [
  {
   "cell_type": "code",
   "execution_count": null,
   "metadata": {
    "collapsed": true
   },
   "outputs": [],
   "source": [
    "import pickle as pkl\n",
    "import pandas as pd\n",
    "from pandas import DataFrame as df\n",
    "from collections import defaultdict\n",
    "import scipy.stats as stats\n",
    "import numpy as np\n",
    "SMALL_SIZE = 12\n",
    "MEDIUM_SIZE = 14\n",
    "BIGGER_SIZE = 16"
   ]
  },
  {
   "cell_type": "code",
   "execution_count": null,
   "metadata": {
    "collapsed": false
   },
   "outputs": [],
   "source": [
    "%matplotlib inline \n",
    "import matplotlib.pyplot as plt\n",
    "def plot_cdf(l):\n",
    "    fig = plt.figure()\n",
    "    l.sort()\n",
    "    p = np.arange(0,1,1/float(len(l)))\n",
    "    plt.plot(l,p)\n",
    "    plt.show()\n",
    "\n",
    "def plot_hints(x, y_hint, y_nohint):\n",
    "    plt.plot(x, y_hint, label='hint')\n",
    "    plt.plot(x, y_nohint, label='no hint')\n",
    "    plt.legend(loc=4)\n",
    "    plt.xticks(x)\n",
    "\n",
    "def get_hint_count():\n",
    "    hint_count_all = defaultdict(list)\n",
    "    hint_count_none = defaultdict(list)\n",
    "    hint_count_uni = defaultdict(list)\n",
    "    hint_count_exp = defaultdict(list)\n",
    "    hint_count_con = defaultdict(list)\n",
    "    for ind, row in HW_data.iterrows():\n",
    "        col_ind = 0\n",
    "        row_fine = row.fillna(-111)\n",
    "        single_count_all = defaultdict(int)\n",
    "        single_count_non = defaultdict(int)\n",
    "        single_count_uni = defaultdict(int)\n",
    "        single_count_exp = defaultdict(int)\n",
    "        single_count_con = defaultdict(int)\n",
    "        for ro in row_fine:\n",
    "            all_h = 0\n",
    "            non_h = 0\n",
    "            exp_h = 0\n",
    "            uni_h = 0\n",
    "            con_h = 0\n",
    "            if col_ind >= len(row)-1:\n",
    "                continue\n",
    "            title = cols[col_ind]\n",
    "            if int(title[0]) < 4:\n",
    "                col_ind += 1\n",
    "                continue\n",
    "            pro_id = (title[0],title[1])\n",
    "            if ro != -111:\n",
    "                hint_c = [s[3]=='Hint' for s in ro]\n",
    "                all_h = sum(hint_c)\n",
    "                if all_h > 0:\n",
    "                    for r in ro:\n",
    "                        if r[3]!='Hint':\n",
    "                            continue\n",
    "                        if r[2][0] == \" \":\n",
    "                            con_h += 1\n",
    "                        elif r[2] == \"no hint\":\n",
    "                            non_h += 1\n",
    "                        elif r[2][:6] == \"Please\":\n",
    "                            exp_h += 1\n",
    "                        elif r[2][:6] != \"Please\":\n",
    "                            uni_h += 1\n",
    "                        else:\n",
    "                            print \"Error! Other hints not captured\"\n",
    "                            print r[2]\n",
    "            single_count_all[pro_id] += all_h\n",
    "            single_count_non[pro_id] += non_h\n",
    "            single_count_uni[pro_id] += uni_h\n",
    "            single_count_exp[pro_id] += exp_h\n",
    "            single_count_con[pro_id] += con_h\n",
    "            col_ind += 1\n",
    "        for p in problems:\n",
    "            if int(p[0]) < 4:\n",
    "                continue\n",
    "            hint_count_all[p].append(single_count_all[p])\n",
    "            hint_count_none[p].append(single_count_non[p])\n",
    "            hint_count_uni[p].append(single_count_uni[p])\n",
    "            hint_count_exp[p].append(single_count_exp[p])\n",
    "            hint_count_con[p].append(single_count_con[p])\n",
    "    return hint_count_all, hint_count_none, hint_count_uni, hint_count_exp, hint_count_con\n",
    "\n",
    "\n",
    "def add_to_df(fea_name, fea_df, df):\n",
    "    for k in fea_df.keys():\n",
    "        df[(k[0], k[1], fea_name)] = fea_df[k]\n",
    "\n",
    "def stats_between_dfs(h_df, noh_df, final_col, print_enabled=True):\n",
    "    h = len(h_df)\n",
    "    no_h = len(noh_df)\n",
    "    if h == 0 or no_h == 0:\n",
    "        print \"ERROR: Empty dataframe passed in...\"\n",
    "        return\n",
    "    hint_mean = h_df[final_col].mean()\n",
    "    nh_mean = noh_df[final_col].mean()\n",
    "    hint_std = h_df[final_col].std()\n",
    "    nh_std = noh_df[final_col].std()\n",
    "    \n",
    "    if(print_enabled):\n",
    "        print h\n",
    "        print no_h\n",
    "        print 'with_hint: ', h/(h+no_h*1.)\n",
    "        print 'with_no_hint: ', no_h/(h+no_h*1.)\n",
    "\n",
    "        print '\\n mean'\n",
    "        print hint_mean\n",
    "        print nh_mean\n",
    "\n",
    "        print '\\n std'\n",
    "        print hint_std\n",
    "        print nh_std\n",
    "\n",
    "        print '\\n ttest'\n",
    "    return stats.ttest_ind_from_stats(hint_mean,hint_std, h, nh_mean, nh_std, no_h)\n",
    "\n",
    "def add_assign(assign, df):\n",
    "    stu = df.username.tolist()\n",
    "    assign = assign.set_index('USERNAME')\n",
    "    filtered_assign = assign.ix[stu]\n",
    "    df[('4','assign')] = filtered_assign['WEEK4']\n",
    "    df[('5','assign')] = filtered_assign['WEEK5']\n",
    "    df[('6','assign')] = filtered_assign['WEEK6']\n",
    "    df[('7','assign')] = filtered_assign['WEEK7']\n",
    "    df[('8','assign')] = filtered_assign['WEEK8']\n",
    "\n",
    "def get_time_diff():\n",
    "    tim_diff = defaultdict(list)\n",
    "    for ind, row in HW_data.iterrows():\n",
    "        col_ind = 0\n",
    "        row_fine = row.fillna(-111)\n",
    "        single_count = defaultdict(int)\n",
    "        for ro in row_fine:\n",
    "            if col_ind >= len(row)-1:\n",
    "                continue\n",
    "            title = cols[col_ind]\n",
    "            pro_id = (title[0],title[1])\n",
    "            if ro == -111:\n",
    "                single_count[pro_id] += 0\n",
    "            elif len(ro) > 0:\n",
    "                t1 = pd.to_datetime(ro[0][0])\n",
    "                t2 = pd.to_datetime(ro[-1][0])\n",
    "                tmp = t2-t1\n",
    "                single_count[pro_id] += tmp.seconds\n",
    "            col_ind += 1\n",
    "        for p in problems:\n",
    "            tim_diff[p].append(single_count[p])\n",
    "    return tim_diff\n",
    "\n",
    "def get_tries():\n",
    "    tries_count = defaultdict(list)\n",
    "    for ind, row in HW_data.iterrows():\n",
    "        col_ind = 0\n",
    "        row_fine = row.fillna(-111)\n",
    "        single_count = defaultdict(int)\n",
    "        for ro in row_fine:\n",
    "            if col_ind >= len(row)-1:\n",
    "                continue\n",
    "            title = cols[col_ind]\n",
    "            pro_id = (title[0],title[1])\n",
    "            if ro == -111:\n",
    "                single_count[pro_id] += 0\n",
    "            elif len(ro) >= 0:# and ro[-1][2] == '1':\n",
    "                tries_c = sum([r[3]!='Hint' for r in ro])\n",
    "                single_count[pro_id] += tries_c\n",
    "            col_ind += 1\n",
    "        for p in problems:\n",
    "            tries_count[p].append(single_count[p])\n",
    "    return tries_count\n",
    "\n",
    "def get_time_spent():\n",
    "    tim_diff = defaultdict(list)\n",
    "    for ind, row in HW_data.iterrows():\n",
    "        col_ind = 0\n",
    "        row_fine = row.fillna(-111)\n",
    "        single_count = defaultdict(int)\n",
    "        for ro in row_fine:\n",
    "            if col_ind >= len(row)-1:\n",
    "                continue\n",
    "            title = cols[col_ind]\n",
    "            pro_id = (title[0],title[1])\n",
    "            if ro == -111:\n",
    "                single_count[pro_id] += 0\n",
    "            elif len(ro) > 0:\n",
    "                for r in range(len(ro)-1):\n",
    "                    t1 = pd.to_datetime(ro[r][0])\n",
    "                    t2 = pd.to_datetime(ro[r+1][0])\n",
    "                    tmp = t2-t1\n",
    "                    if tmp.seconds//60 < 10:\n",
    "                        single_count[pro_id] += tmp.seconds\n",
    "            col_ind += 1\n",
    "        for p in problems:\n",
    "            tim_diff[p].append(single_count[p])\n",
    "    return tim_diff\n",
    "\n",
    "def fea_p_val(fea_name, df):\n",
    "    p_vals = []\n",
    "    pro_list = []\n",
    "    h = []\n",
    "    nh = []\n",
    "    pros_stat = []\n",
    "    for p in sorted(problems):\n",
    "        if int(p[0]) < 4:\n",
    "            continue\n",
    "        pn = (p[0], p[1], 'hint_count')\n",
    "        h_df = df[(df[pn] > 0)]\n",
    "        nh_df = df[(df[pn] == 0) & (df[(p[0],'assign')] == '0')]\n",
    "        if len(h_df) == 0 or len(nh_df) == 0:\n",
    "            continue\n",
    "        pros_stat.append(p)\n",
    "        st = stats_between_dfs(h_df, nh_df, (p[0],p[1],fea_name), False)\n",
    "        if st and st[1] == st[1]:\n",
    "            p_vals.append(st[1])\n",
    "            pro_list.append(p)\n",
    "            h.append(h_df[p[0],p[1],fea_name].mean())\n",
    "            nh.append(nh_df[p[0],p[1],fea_name].mean())\n",
    "    return p_vals, pro_list, h, nh\n",
    "\n",
    "def fig_setting():\n",
    "    plt.figure(figsize=(10,5))\n",
    "    plt.rc('font', size=BIGGER_SIZE)          # controls default text sizes\n",
    "    plt.rc('axes', titlesize=BIGGER_SIZE)     # fontsize of the axes title\n",
    "    plt.rc('axes', labelsize=MEDIUM_SIZE)    # fontsize of the x and y labels\n",
    "    plt.rc('xtick', labelsize=SMALL_SIZE)    # fontsize of the tick labels\n",
    "    plt.rc('ytick', labelsize=SMALL_SIZE)    # fontsize of the tick labels\n",
    "    plt.rc('legend', fontsize=MEDIUM_SIZE)    # legend fontsize\n",
    "    return plt\n",
    "\n",
    "def find_ave(df):\n",
    "    ### Average tries for students with no hint\n",
    "    nh_ave = {}  #{pro_id: average}\n",
    "    ### Average tries for students with no click\n",
    "    h_nc_ave = {}\n",
    "    ### Average tries for students with hints\n",
    "    h_ave = {}\n",
    "\n",
    "    for p in sorted(problems):\n",
    "        if int(p[0]) < 4:\n",
    "            continue\n",
    "        pn = (p[0], p[1], 'hint_count')\n",
    "\n",
    "        nh_df = df[(df[(p[0],'assign')] == '0') & (df[(p[0],p[1],'tries')] > 0)]\n",
    "        if len(nh_df) != 0:\n",
    "            nh_ave[(p[0],p[1])] = nh_df[(p[0],p[1],'tries')].mean()\n",
    "\n",
    "        nc_df = df[(df[(p[0],'assign')] != '0') & (df[pn] == 0) & (df[(p[0],p[1],'tries')] > 0)]\n",
    "        if len(nc_df) != 0:\n",
    "            h_nc_ave[(p[0],p[1])] = nc_df[(p[0],p[1],'tries')].mean()\n",
    "\n",
    "        h_df = df[df[pn] > 0 & (df[(p[0],p[1],'tries')] > 0)]\n",
    "        if len(h_df) != 0:\n",
    "            h_ave[(p[0],p[1])] = h_df[(p[0],p[1],'tries')].mean()\n",
    "    return nh_ave, h_nc_ave, h_ave\n",
    "\n",
    "def first_pro(HW_df, df):\n",
    "    ### Find the first part with hints for each student\n",
    "    stu_list = df['username'].tolist()\n",
    "    first_hint_pro = {}\n",
    "    for ind, row in HW_df.iterrows():\n",
    "        if not ind in stu_list:\n",
    "            continue\n",
    "        weekly_first = defaultdict(str)\n",
    "        pro_done_time = {}\n",
    "        col_count = 0\n",
    "        hint_times = {}\n",
    "        row_fine = row.fillna(-111)\n",
    "        for r in row_fine[:-1]:\n",
    "            title = cols[col_count]\n",
    "            if int(title[0]) < 4 or r == -111:\n",
    "                col_count += 1\n",
    "                continue\n",
    "            if type(r) is int:\n",
    "                print r\n",
    "            pro_done_time[title] = pd.to_datetime(r[-1][0])\n",
    "            pro_hint_time = [pd.to_datetime(t[0]) for t in r if t[-1] == \"Hint\"]\n",
    "            if pro_hint_time:\n",
    "                first_pro_hint_time = min(pro_hint_time)\n",
    "                if title[0] not in hint_times.keys():\n",
    "                    hint_times[title[0]] = first_pro_hint_time\n",
    "                elif hint_times[title[0]] > first_pro_hint_time:\n",
    "                    hint_times[title[0]] = first_pro_hint_time\n",
    "            col_count += 1\n",
    "        \n",
    "        if hint_times:\n",
    "            for c in cols:\n",
    "                if int(c[0]) < 4:\n",
    "                    continue\n",
    "                if c[0] in hint_times.keys() and c in pro_done_time and pro_done_time[c] > hint_times[c[0]]:\n",
    "                    if not weekly_first[c[0]]:\n",
    "                        weekly_first[c[0]] = [c[1]]\n",
    "                    elif c[1] not in weekly_first[c[0]]:\n",
    "                        weekly_first[c[0]].append(c[1])\n",
    "        first_hint_pro[ind] = weekly_first\n",
    "    return first_hint_pro\n",
    "\n",
    "def sum_attempts(df, pros_tries, first_pros):\n",
    "    ### Find sum of attempts for problems with hints.\n",
    "    h_tries_sum = defaultdict(int)  #{stu_id:sum}\n",
    "    h_pros = defaultdict(list)  #{stu_id:[pro_id, pro_id, ...]}\n",
    "\n",
    "    ### Find sum of attempts for problems without hint.\n",
    "    h_nc_tries_sum = defaultdict(int)\n",
    "    h_nc_pros = defaultdict(list)\n",
    "    \n",
    "    h_nc_tries_weekly_sum = defaultdict(dict)\n",
    "    h_nc_weekly_pros = defaultdict(dict)\n",
    "\n",
    "    for ind, row in df.iterrows():\n",
    "        single_h_nc_weekly_sum = defaultdict(int)\n",
    "        single_h_nc_weekly_pros = defaultdict(list)\n",
    "        for p in sorted(pros_tries):\n",
    "            if int(p[0]) < 4 or int(p[0]) > 7:\n",
    "                continue\n",
    "            h_count = (p[0], p[1], 'hint_count')\n",
    "            assign = (p[0],'assign')\n",
    "            if row[assign] == '0':\n",
    "                continue\n",
    "            if first_pros[ind][p[0]]: #has at least one hint in assignment p[0]\n",
    "                if row[h_count] > 0:\n",
    "                    h_tries_sum[ind] += row[(p[0],p[1],'tries')]\n",
    "                    h_pros[ind].append((p[0],p[1]))\n",
    "                if p[1] in first_pros[ind][p[0]] and row[h_count] == 0:\n",
    "                    h_nc_tries_sum[ind] += row[(p[0],p[1],'tries')]\n",
    "                    h_nc_pros[ind].append((p[0],p[1]))\n",
    "                    single_h_nc_weekly_sum[p[0]] += row[(p[0],p[1],'tries')]\n",
    "                    single_h_nc_weekly_pros[p[0]].append((p[0],p[1]))\n",
    "        for w in single_h_nc_weekly_sum:\n",
    "            h_nc_tries_weekly_sum[w][ind] = single_h_nc_weekly_sum[w]\n",
    "            h_nc_weekly_pros[w][ind] = single_h_nc_weekly_pros[w]\n",
    "    return h_tries_sum, h_pros, h_nc_tries_sum, h_nc_pros, h_nc_tries_weekly_sum, h_nc_weekly_pros\n",
    "\n",
    "def stats_between_(df_base, df, pros_df):\n",
    "    diff_count = 0\n",
    "    diff_sum = 0\n",
    "    diff = np.array([])\n",
    "    diff_n = []\n",
    "    control_sum_tries = []\n",
    "    treatment_sum_tries = []\n",
    "    for name in pros_df:\n",
    "        base_sum = 0\n",
    "        for p in pros_df[name]:\n",
    "            base_sum += df_base[p[0], p[1]]\n",
    "        control_sum_tries.append(base_sum)\n",
    "        treatment_sum_tries.append(df[name])\n",
    "        diff = np.append(diff, base_sum - df[name])\n",
    "        diff_n.append(name)\n",
    "    ave = diff.mean()\n",
    "    stat_values = stats.ttest_ind(control_sum_tries, treatment_sum_tries)\n",
    "    #print diff_n[:10]\n",
    "    #print diff[:10]\n",
    "    return ave, stat_values[1], control_sum_tries, treatment_sum_tries, diff\n",
    "\n",
    "def comparison(df_all, df, problems_list):   \n",
    "    nh_ave, h_nc_ave, h_ave = find_ave(df_all)\n",
    "    first_hint_pros = first_pro(HW_data, df_all)\n",
    "    h_tries_sum, h_pros, \\\n",
    "    h_nc_tries_sum, h_nc_pros, \\\n",
    "    h_nc_tries_weekly_sum, h_nc_weekly_pros = sum_attempts(df, problems_list, first_hint_pros)\n",
    "\n",
    "    ave, p_val, c, t, d = stats_between_(nh_ave, h_tries_sum, h_pros)\n",
    "    #plot_cdf(d)\n",
    "    print \"Problems w/ hints\"\n",
    "    print \"Baseline: no-hint group average\"\n",
    "    print \"Baseline has \", ave, \"more than hint group.\"\n",
    "    print \"P-val = \", p_val, \"\\n\"\n",
    "    \n",
    "    ave, p_val, c, t, d = stats_between_(h_nc_ave, h_tries_sum, h_pros)\n",
    "    #plot_cdf(d)\n",
    "    print \"Problems w/ hints\"\n",
    "    print \"Baseline: no-show group average\"\n",
    "    print \"Baseline has \", ave, \"more than hint group.\"\n",
    "    print \"P-val = \", p_val, \"\\n\"\n",
    "    \n",
    "    ave, p_val, c, t, d= stats_between_(nh_ave, h_nc_tries_sum, h_nc_pros)\n",
    "    #plot_cdf(d)\n",
    "    print \"Problems w/o hints\"\n",
    "    print \"Baseline: no-hint group average\"\n",
    "    print \"Baseline has \", ave, \" more than no-show group.\"\n",
    "    print \"P-val = \", p_val, \"\\n\"\n",
    "    \n",
    "    ave, p_val, c, t, d = stats_between_(h_ave, h_nc_tries_sum, h_nc_pros)\n",
    "    #plot_cdf(d)\n",
    "    print \"Problems w/o hints\"\n",
    "    print \"Baseline: hint group average\"\n",
    "    print \"Baseline has \", ave, \"more than no-show group.\"\n",
    "    print \"P-val = \", p_val, \"\\n\"\n",
    "\n",
    "    \n",
    "    '''for w in h_nc_tries_weekly_sum:\n",
    "        ave, p_val, c, t, d= stats_between_(nh_ave, h_nc_tries_weekly_sum[w], h_nc_weekly_pros[w])\n",
    "        print 'Week ', w\n",
    "        print \"(Problems w/o hint)Students in no-hint group has on average {0} more tries than\".format(ave)\n",
    "        print \"students in hint group on problems without hint.\"\n",
    "        print \"P-val = \", p_val, \"\\n\"'''\n",
    "    "
   ]
  },
  {
   "cell_type": "code",
   "execution_count": null,
   "metadata": {
    "collapsed": false
   },
   "outputs": [],
   "source": [
    "HW_data = pkl.load(open('pkl/HW_df.pkl', 'rb'))\n",
    "cols = HW_data.columns\n",
    "HW_data['username'] = HW_data.index"
   ]
  },
  {
   "cell_type": "code",
   "execution_count": null,
   "metadata": {
    "collapsed": false
   },
   "outputs": [],
   "source": [
    "problems = list(set([(c[0],c[1]) for c in cols if len(c)==3]))"
   ]
  },
  {
   "cell_type": "code",
   "execution_count": null,
   "metadata": {
    "collapsed": false
   },
   "outputs": [],
   "source": [
    "assign_df = pd.read_pickle('assignment_table.pkl')\n",
    "assign_df.columns"
   ]
  },
  {
   "cell_type": "code",
   "execution_count": null,
   "metadata": {
    "collapsed": false
   },
   "outputs": [],
   "source": [
    "features_df = pd.read_pickle('pkl/old_features_df.pkl')\n",
    "features_df.columns"
   ]
  },
  {
   "cell_type": "code",
   "execution_count": null,
   "metadata": {
    "collapsed": true
   },
   "outputs": [],
   "source": [
    "#new_fea_df = pd.read_pickle('pkl/features_df.pkl')\n",
    "#eval_info = pd.read_pickle('eval_info.pkl')\n",
    "#hint_log = pd.read_pickle('hint_log.pkl')"
   ]
  },
  {
   "cell_type": "code",
   "execution_count": null,
   "metadata": {
    "collapsed": true
   },
   "outputs": [],
   "source": [
    "def build_hint_df(assign_df, features_df, hint_type):\n",
    "    hints_df = df(HW_data['username'])\n",
    "    h_all, h_non, h_uni, h_exp, h_con = get_hint_count()\n",
    "    if hint_type == \"all\":\n",
    "        hint_count = h_all\n",
    "    elif hint_type == \"none\":\n",
    "        hint_count = h_non\n",
    "    elif hint_type == \"conditional\":\n",
    "        hint_count = h_con\n",
    "    elif hint_type == \"universal\":\n",
    "        hint_count = h_uni\n",
    "    elif hint_type == \"expressions\":\n",
    "        hint_count = h_exp\n",
    "    add_to_df('hint_count', hint_count, hints_df)\n",
    "    add_assign(assign_df, hints_df)\n",
    "    add_to_df('tries', get_tries(), hints_df)\n",
    "    #add_to_df('time_diff', get_time_diff(), hints_df)\n",
    "    #add_to_df('time_spent', get_time_spent(), hints_df)\n",
    "    return hints_df"
   ]
  },
  {
   "cell_type": "code",
   "execution_count": null,
   "metadata": {
    "collapsed": true
   },
   "outputs": [],
   "source": [
    "hints_df_all = build_hint_df(assign_df, features_df, \"all\")"
   ]
  },
  {
   "cell_type": "code",
   "execution_count": null,
   "metadata": {
    "collapsed": false
   },
   "outputs": [],
   "source": [
    "pkl.dump(hints_df_all, open('hints_df_all.pkl', 'w'))"
   ]
  },
  {
   "cell_type": "code",
   "execution_count": null,
   "metadata": {
    "collapsed": false
   },
   "outputs": [],
   "source": [
    "hints_df = build_hint_df(assign_df, features_df, \"all\")\n",
    "comparison(hints_df_all, hints_df, problems)"
   ]
  },
  {
   "cell_type": "code",
   "execution_count": null,
   "metadata": {
    "collapsed": false
   },
   "outputs": [],
   "source": [
    "hints_df = build_hint_df(assign_df, features_df, \"none\")\n",
    "comparison(hints_df_all, hints_df, problems)"
   ]
  },
  {
   "cell_type": "code",
   "execution_count": null,
   "metadata": {
    "collapsed": false
   },
   "outputs": [],
   "source": [
    "hints_df = build_hint_df(assign_df, features_df, \"conditional\")\n",
    "comparison(hints_df_all, hints_df, problems)"
   ]
  },
  {
   "cell_type": "code",
   "execution_count": null,
   "metadata": {
    "collapsed": false
   },
   "outputs": [],
   "source": [
    "hints_df = build_hint_df(assign_df, features_df, \"universal\")\n",
    "comparison(hints_df_all, hints_df, problems)"
   ]
  },
  {
   "cell_type": "code",
   "execution_count": null,
   "metadata": {
    "collapsed": false
   },
   "outputs": [],
   "source": [
    "hints_df = build_hint_df(assign_df, features_df, \"expressions\")\n",
    "comparison(hints_df_all, hints_df, problems)"
   ]
  },
  {
   "cell_type": "code",
   "execution_count": null,
   "metadata": {
    "collapsed": true
   },
   "outputs": [],
   "source": [
    "#### Average Final Scores\n",
    "|Problems |no_hint|hint|P-value|\n",
    "| ---|:-------:|:-------:|:-------:|\n",
    "|with Hints|0.903/0.881|0.244/0.247|0.543|\n",
    "|without Hint|0.780/0.897|0.219/0.171|0.0076|\n",
    "|without Hint|0.846/0.924|0.269/0.182|0.024|\n"
   ]
  },
  {
   "cell_type": "code",
   "execution_count": null,
   "metadata": {
    "collapsed": true
   },
   "outputs": [],
   "source": [
    "### Almost all problems have hints.\n",
    "### Students withno hints in some of the problem are students who didn't click show hint button.\n",
    "### There are students who didn't click any show hint button in the whole week.\n",
    "### Can't really distinguish no-click vs. not-assigned.\n",
    "\n",
    "### Could study whether students tend to not click show-hint for same type of problems and finish them faster"
   ]
  },
  {
   "cell_type": "code",
   "execution_count": null,
   "metadata": {
    "collapsed": true
   },
   "outputs": [],
   "source": []
  },
  {
   "cell_type": "code",
   "execution_count": null,
   "metadata": {
    "collapsed": true
   },
   "outputs": [],
   "source": []
  },
  {
   "cell_type": "code",
   "execution_count": null,
   "metadata": {
    "collapsed": true
   },
   "outputs": [],
   "source": [
    "def fea_p_val_sum(fea_name, df):\n",
    "    p_vals = defaultdict(float)\n",
    "    h = defaultdict(float)\n",
    "    nh = defaultdict(float)\n",
    "    h_pro = defaultdict(int)\n",
    "    nh_pro = defaultdict(int)\n",
    "    for p in sorted(problems):\n",
    "        if int(p[0]) < 4:\n",
    "            continue\n",
    "        pn = (p[0], p[1], 'hint_count')\n",
    "        h_df = df[(df[pn] > 0)]\n",
    "        nh_df = df[(df[pn] == 0) & (df[(p[0],'assign')] != '0')]\n",
    "        if len(h_df) == 0 or len(nh_df) == 0:\n",
    "            continue\n",
    "        \n",
    "        #print 'hint ', p, h_df[(p[0],p[1],fea_name)].mean()\n",
    "        #print 'no hint ', p, nh_df[(p[0],p[1],fea_name)].mean()\n",
    "        for ind,row in h_df.iterrows():\n",
    "            h[ind] += row[(p[0],p[1],fea_name)]\n",
    "            h_pro[ind] += 1\n",
    "        for ind,row in nh_df.iterrows():\n",
    "            nh[ind] += row[(p[0],p[1],fea_name)]\n",
    "            nh_pro[ind] += 1\n",
    "            \n",
    "    nam_diff1 = [s for s in h.keys() if s not in nh.keys()]\n",
    "    nam_diff2 = [s for s in nh.keys() if s not in h.keys()]\n",
    "    for n in nam_diff1:\n",
    "        del h[n]\n",
    "    for n in nam_diff2:\n",
    "        del nh[n]\n",
    "    \n",
    "    for k in h:\n",
    "        h[k] = h[k]/h_pro[k]\n",
    "    for k in nh:\n",
    "        nh[k] = nh[k]/nh_pro[k]\n",
    "    \n",
    "    h_list = np.array(h.values())\n",
    "    nh_list = np.array(nh.values())\n",
    "    hint_mean = h_list.mean()\n",
    "    nh_mean = nh_list.mean()\n",
    "    hint_std = h_list.std()\n",
    "    nh_std = nh_list.std()\n",
    "    h_len = len(h_list)\n",
    "    no_h_len = len(nh_list)\n",
    "    diff = h_list - nh_list\n",
    "    print diff.mean()\n",
    "    \n",
    "    #t_val, p_val = stats.ttest_ind_from_stats(hint_mean, hint_std, h, nh_mean, nh_std, no_h)\n",
    "    t_val, p_val = stats.ttest_rel(h.values(), nh.values())\n",
    "    return hint_mean, nh_mean, p_val"
   ]
  },
  {
   "cell_type": "code",
   "execution_count": null,
   "metadata": {
    "collapsed": false
   },
   "outputs": [],
   "source": [
    "hm, nhm, p = fea_p_val_sum('tries', hints_df_all)"
   ]
  },
  {
   "cell_type": "code",
   "execution_count": null,
   "metadata": {
    "collapsed": false
   },
   "outputs": [],
   "source": [
    "print hm\n",
    "print nhm\n",
    "print p"
   ]
  },
  {
   "cell_type": "code",
   "execution_count": null,
   "metadata": {
    "collapsed": false
   },
   "outputs": [],
   "source": [
    "fea_p_val_sum('tries', hints_df_all)"
   ]
  },
  {
   "cell_type": "code",
   "execution_count": null,
   "metadata": {
    "collapsed": false,
    "scrolled": true
   },
   "outputs": [],
   "source": [
    "p_vals, pros_time, h_time, nh_time = fea_p_val('time_spent', hints_df_all)\n",
    "print len(pros_time)\n",
    "###Print table for latex\n",
    "for i in xrange(len(pros_time)):\n",
    "    if p_vals[i] > 0.05:\n",
    "        print pros_time[i], '&', p_vals[i]"
   ]
  },
  {
   "cell_type": "code",
   "execution_count": null,
   "metadata": {
    "collapsed": false,
    "scrolled": true
   },
   "outputs": [],
   "source": [
    "plt = fig_setting()\n",
    "plot_hints(range(0,len(pros_time)), np.array(h_time)/3600., np.array(nh_time)/3600.)\n",
    "plt.xticks(range(0,len(pros_time)), pros_time, rotation='vertical')\n",
    "plt.title('Time Spent on Homework Problems')\n",
    "plt.xlabel('Problem ID')\n",
    "plt.ylabel('Hours Spent')\n",
    "plt.legend(loc=2)\n",
    "plt.savefig('times_analysis.png', bbox_inches='tight', pad_inches=0.2)"
   ]
  },
  {
   "cell_type": "code",
   "execution_count": null,
   "metadata": {
    "collapsed": false,
    "scrolled": true
   },
   "outputs": [],
   "source": [
    "### Output table for latex\n",
    "p_vals_tries, pros_tries, h_tries, nh_tries = fea_p_val('tries', hints_df_all)\n",
    "### Print table value for latex\n",
    "for i in xrange(len(pros_time)):\n",
    "    if p_vals_tries[i] > 0.05:\n",
    "        print \"{0} & {1:.3f} & {2:.3f} \\\\\\\\\".format(pros_time[i], p_vals[i], p_vals_tries[i])"
   ]
  },
  {
   "cell_type": "code",
   "execution_count": null,
   "metadata": {
    "collapsed": false
   },
   "outputs": [],
   "source": [
    "plt = fig_setting()\n",
    "plot_hints(range(0,len(pros_tries)), h_tries, nh_tries)\n",
    "plt.xticks(range(0,len(pros_tries)), pros_tries, rotation='vertical')\n",
    "plt.title('Number of Attempts', fontsize=BIGGER_SIZE)\n",
    "plt.xlabel('Problem ID')\n",
    "plt.ylabel('Number of Attempts')\n",
    "plt.legend(loc=1)\n",
    "plt.savefig('tries_analysis.png', bbox_inches='tight', pad_inches=0.2)"
   ]
  },
  {
   "cell_type": "code",
   "execution_count": null,
   "metadata": {
    "collapsed": true
   },
   "outputs": [],
   "source": [
    "### Number of attempts on problems without hints\n",
    "### Look at students who got hint but did not clicked \"show hint\" to see whether they perform better\n",
    "ave_nc, nc_p_val = stats_between_(h_nc_tries_sum, h_nc_pros, nh_ave, 'nh_ave_tries')\n",
    "print \"(Problems w/o hint)Students in no-hint group has on average {0} more tries than\".format(ave_nc)\n",
    "print \"students who received hints but didn't click 'show hint'\"\n",
    "print \"P-val = \", nc_p_val"
   ]
  },
  {
   "cell_type": "code",
   "execution_count": null,
   "metadata": {
    "collapsed": true
   },
   "outputs": [],
   "source": [
    "### A feature as students who click/notclick the hint.\n",
    "### Assignment by assignment."
   ]
  },
  {
   "cell_type": "code",
   "execution_count": null,
   "metadata": {
    "collapsed": false
   },
   "outputs": [],
   "source": [
    "### Number of attempts on problems without hint PER ASSIGNMENT.\n",
    "h_na_diff_count_weekly = defaultdict(int)\n",
    "h_na_diff_weekly = defaultdict(list)\n",
    "h_na_control_sum_tries_weekly = defaultdict(list)\n",
    "h_na_treatment_sum_tries_weekly = defaultdict(list)\n",
    "for nam in h_na_pros:\n",
    "    nh_sum = defaultdict(int)\n",
    "    for p in h_na_pros[nam]:\n",
    "        nh_sum[p[0]] += nh_ave[p[0], p[1], 'nh_ave_tries']\n",
    "    h_na_control_sum_tries_weekly[p[0]].append(nh_sum[p[0]])\n",
    "    h_na_treatment_sum_tries_weekly[p[0]].append(h_na_tries_sum_weekly[nam][p[0]])\n",
    "    h_na_diff_weekly[p[0]].append(nh_sum[p[0]] - h_na_tries_sum_weekly[nam][p[0]])\n",
    "    h_na_diff_count_weekly[p[0]] += 1\n",
    "for w in ['5','6','7','8']:\n",
    "    print sum(h_na_diff_weekly[w])/float(h_na_diff_count_weekly[w])\n",
    "    print stats.ttest_rel(h_na_control_sum_tries_weekly[w], h_na_treatment_sum_tries_weekly[w])"
   ]
  },
  {
   "cell_type": "code",
   "execution_count": null,
   "metadata": {
    "collapsed": true
   },
   "outputs": [],
   "source": [
    "### Look at the universal hints see whether it helps - in HW and in final."
   ]
  },
  {
   "cell_type": "code",
   "execution_count": null,
   "metadata": {
    "collapsed": true
   },
   "outputs": [],
   "source": [
    "### Questions in pdf (HW and Final)\n",
    "### Students attempt without the correct solution\n",
    "### Final score\n",
    "### Make public dataset\n",
    "### Clean up the code and setup a git."
   ]
  },
  {
   "cell_type": "code",
   "execution_count": null,
   "metadata": {
    "collapsed": true
   },
   "outputs": [],
   "source": [
    "### Sort problems in the order students do it.\n",
    "### Then filter out problems with hints.\n",
    "### Put this result in abstract.\n",
    "### Mention the weaker students but the data is not conclusive."
   ]
  },
  {
   "cell_type": "code",
   "execution_count": null,
   "metadata": {
    "collapsed": false
   },
   "outputs": [],
   "source": [
    "nh_ave, h_nc_ave, h_ave = find_ave(hints_df)"
   ]
  },
  {
   "cell_type": "code",
   "execution_count": null,
   "metadata": {
    "collapsed": false
   },
   "outputs": [],
   "source": [
    "for k in nh_ave.keys():\n",
    "    print nh_ave[k], h_nc_ave[k], h_ave[k]"
   ]
  },
  {
   "cell_type": "code",
   "execution_count": null,
   "metadata": {
    "collapsed": false
   },
   "outputs": [],
   "source": [
    "hints_df = build_hint_df(assign_df, features_df, \"all\")\n",
    "p_vals_tries, pros_tries, h_tries, nh_tries = fea_p_val('tries', hints_df)"
   ]
  },
  {
   "cell_type": "code",
   "execution_count": null,
   "metadata": {
    "collapsed": true
   },
   "outputs": [],
   "source": []
  },
  {
   "cell_type": "code",
   "execution_count": null,
   "metadata": {
    "collapsed": true
   },
   "outputs": [],
   "source": [
    "#### alpha_hy - alpha_hn\n",
    "#### Measure grade vs no-click\n",
    "\n",
    "#### Do weekly on the problems with no hint and see whether p-value is small on specific assignment.\n",
    "\n",
    "\n",
    "\n",
    "#### Plot p-value on the same graph!!!\n",
    "#### Add time arrow on the graph of filtering problems."
   ]
  }
 ],
 "metadata": {
  "kernelspec": {
   "display_name": "Python 2",
   "language": "python",
   "name": "python2"
  },
  "language_info": {
   "codemirror_mode": {
    "name": "ipython",
    "version": 2
   },
   "file_extension": ".py",
   "mimetype": "text/x-python",
   "name": "python",
   "nbconvert_exporter": "python",
   "pygments_lexer": "ipython2",
   "version": "2.7.9"
  }
 },
 "nbformat": 4,
 "nbformat_minor": 0
}
